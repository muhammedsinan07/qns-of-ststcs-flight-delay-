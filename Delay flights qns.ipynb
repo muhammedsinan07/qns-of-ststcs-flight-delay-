{
 "cells": [
  {
   "cell_type": "code",
   "execution_count": 1,
   "id": "95a85b84",
   "metadata": {},
   "outputs": [],
   "source": [
    "import pandas as pd"
   ]
  },
  {
   "cell_type": "markdown",
   "id": "52855d0e",
   "metadata": {},
   "source": [
    "**What is the average departure delay for all flights?\n",
    "What is the average arrival delay for all flights?\n",
    "Is there more variability in departure delays or arrival delays?\n",
    "What percentage of flights had a departure delay of more than 15 minutes?\n",
    "What is the range of arrival delays among the flights?**"
   ]
  },
  {
   "cell_type": "code",
   "execution_count": 2,
   "id": "f120726e",
   "metadata": {},
   "outputs": [
    {
     "data": {
      "text/html": [
       "<div>\n",
       "<style scoped>\n",
       "    .dataframe tbody tr th:only-of-type {\n",
       "        vertical-align: middle;\n",
       "    }\n",
       "\n",
       "    .dataframe tbody tr th {\n",
       "        vertical-align: top;\n",
       "    }\n",
       "\n",
       "    .dataframe thead th {\n",
       "        text-align: right;\n",
       "    }\n",
       "</style>\n",
       "<table border=\"1\" class=\"dataframe\">\n",
       "  <thead>\n",
       "    <tr style=\"text-align: right;\">\n",
       "      <th></th>\n",
       "      <th>Flight Number</th>\n",
       "      <th>Departure Delay (minutes)</th>\n",
       "      <th>Arrival Delay (minutes)</th>\n",
       "    </tr>\n",
       "  </thead>\n",
       "  <tbody>\n",
       "    <tr>\n",
       "      <th>0</th>\n",
       "      <td>123</td>\n",
       "      <td>15</td>\n",
       "      <td>10</td>\n",
       "    </tr>\n",
       "    <tr>\n",
       "      <th>1</th>\n",
       "      <td>456</td>\n",
       "      <td>0</td>\n",
       "      <td>5</td>\n",
       "    </tr>\n",
       "    <tr>\n",
       "      <th>2</th>\n",
       "      <td>789</td>\n",
       "      <td>20</td>\n",
       "      <td>15</td>\n",
       "    </tr>\n",
       "    <tr>\n",
       "      <th>3</th>\n",
       "      <td>12</td>\n",
       "      <td>10</td>\n",
       "      <td>25</td>\n",
       "    </tr>\n",
       "    <tr>\n",
       "      <th>4</th>\n",
       "      <td>345</td>\n",
       "      <td>5</td>\n",
       "      <td>0</td>\n",
       "    </tr>\n",
       "  </tbody>\n",
       "</table>\n",
       "</div>"
      ],
      "text/plain": [
       "   Flight Number  Departure Delay (minutes)  Arrival Delay (minutes)\n",
       "0            123                         15                       10\n",
       "1            456                          0                        5\n",
       "2            789                         20                       15\n",
       "3             12                         10                       25\n",
       "4            345                          5                        0"
      ]
     },
     "execution_count": 2,
     "metadata": {},
     "output_type": "execute_result"
    }
   ],
   "source": [
    "flights = pd.read_excel('C:\\data analytics\\pandas_docs/fligt.xlsx')\n",
    "flights"
   ]
  },
  {
   "cell_type": "code",
   "execution_count": 3,
   "id": "0e75be12",
   "metadata": {},
   "outputs": [
    {
     "data": {
      "text/plain": [
       "10.0"
      ]
     },
     "execution_count": 3,
     "metadata": {},
     "output_type": "execute_result"
    }
   ],
   "source": [
    "\n",
    "flights['Departure Delay (minutes)'].mean()"
   ]
  },
  {
   "cell_type": "markdown",
   "id": "69a6f7b7",
   "metadata": {},
   "source": [
    "- 10 is the average deprture delay of all flights"
   ]
  },
  {
   "cell_type": "code",
   "execution_count": 5,
   "id": "97e5834c",
   "metadata": {},
   "outputs": [
    {
     "data": {
      "text/plain": [
       "11.0"
      ]
     },
     "execution_count": 5,
     "metadata": {},
     "output_type": "execute_result"
    }
   ],
   "source": [
    "flights['Arrival Delay (minutes)'].mean()"
   ]
  },
  {
   "cell_type": "markdown",
   "id": "3b5c891a",
   "metadata": {},
   "source": [
    "- 11 is the arrival delay of all flights"
   ]
  },
  {
   "cell_type": "code",
   "execution_count": 6,
   "id": "41acbd11",
   "metadata": {},
   "outputs": [
    {
     "data": {
      "text/plain": [
       "0"
      ]
     },
     "execution_count": 6,
     "metadata": {},
     "output_type": "execute_result"
    }
   ],
   "source": [
    "flights['Departure Delay (minutes)'].min()"
   ]
  },
  {
   "cell_type": "code",
   "execution_count": 7,
   "id": "f9a2f005",
   "metadata": {},
   "outputs": [
    {
     "data": {
      "text/plain": [
       "20"
      ]
     },
     "execution_count": 7,
     "metadata": {},
     "output_type": "execute_result"
    }
   ],
   "source": [
    "flights['Departure Delay (minutes)'].max()"
   ]
  },
  {
   "cell_type": "code",
   "execution_count": 8,
   "id": "26cc02a3",
   "metadata": {},
   "outputs": [
    {
     "data": {
      "text/plain": [
       "62.5"
      ]
     },
     "execution_count": 8,
     "metadata": {},
     "output_type": "execute_result"
    }
   ],
   "source": [
    "flights['Departure Delay (minutes)'].var()"
   ]
  },
  {
   "cell_type": "code",
   "execution_count": 9,
   "id": "5e065029",
   "metadata": {},
   "outputs": [
    {
     "data": {
      "text/plain": [
       "42.5"
      ]
     },
     "execution_count": 9,
     "metadata": {},
     "output_type": "execute_result"
    }
   ],
   "source": [
    "(flights['Departure Delay (minutes)'].var())-(flights['Departure Delay (minutes)'].max())"
   ]
  },
  {
   "cell_type": "code",
   "execution_count": 10,
   "id": "27b09da2",
   "metadata": {},
   "outputs": [
    {
     "data": {
      "text/plain": [
       "0"
      ]
     },
     "execution_count": 10,
     "metadata": {},
     "output_type": "execute_result"
    }
   ],
   "source": [
    "flights['Arrival Delay (minutes)'].min()"
   ]
  },
  {
   "cell_type": "code",
   "execution_count": 11,
   "id": "0b06c90d",
   "metadata": {},
   "outputs": [
    {
     "data": {
      "text/plain": [
       "25"
      ]
     },
     "execution_count": 11,
     "metadata": {},
     "output_type": "execute_result"
    }
   ],
   "source": [
    "flights['Arrival Delay (minutes)'].max()"
   ]
  },
  {
   "cell_type": "code",
   "execution_count": 12,
   "id": "6bcf5f82",
   "metadata": {},
   "outputs": [
    {
     "data": {
      "text/plain": [
       "92.5"
      ]
     },
     "execution_count": 12,
     "metadata": {},
     "output_type": "execute_result"
    }
   ],
   "source": [
    "flights['Arrival Delay (minutes)'].var()"
   ]
  },
  {
   "cell_type": "code",
   "execution_count": 13,
   "id": "c787c9f1",
   "metadata": {},
   "outputs": [
    {
     "data": {
      "text/plain": [
       "67.5"
      ]
     },
     "execution_count": 13,
     "metadata": {},
     "output_type": "execute_result"
    }
   ],
   "source": [
    "(flights['Arrival Delay (minutes)'].var())-(flights['Arrival Delay (minutes)'].max())"
   ]
  },
  {
   "cell_type": "markdown",
   "id": "eee6251a",
   "metadata": {},
   "source": [
    "- Here more variability in Arrival delay"
   ]
  },
  {
   "cell_type": "code",
   "execution_count": 14,
   "id": "571f118c",
   "metadata": {},
   "outputs": [
    {
     "data": {
      "text/plain": [
       "25"
      ]
     },
     "execution_count": 14,
     "metadata": {},
     "output_type": "execute_result"
    }
   ],
   "source": [
    "(flights['Arrival Delay (minutes)'].max()) - (-flights['Arrival Delay (minutes)'].min())"
   ]
  },
  {
   "cell_type": "markdown",
   "id": "f87eda80",
   "metadata": {},
   "source": [
    "- Range of the arrival delay is 25\n",
    "- Range is the diffrnts b/w the largest and smallest values"
   ]
  },
  {
   "cell_type": "code",
   "execution_count": 15,
   "id": "e33451cc",
   "metadata": {},
   "outputs": [
    {
     "data": {
      "text/html": [
       "<div>\n",
       "<style scoped>\n",
       "    .dataframe tbody tr th:only-of-type {\n",
       "        vertical-align: middle;\n",
       "    }\n",
       "\n",
       "    .dataframe tbody tr th {\n",
       "        vertical-align: top;\n",
       "    }\n",
       "\n",
       "    .dataframe thead th {\n",
       "        text-align: right;\n",
       "    }\n",
       "</style>\n",
       "<table border=\"1\" class=\"dataframe\">\n",
       "  <thead>\n",
       "    <tr style=\"text-align: right;\">\n",
       "      <th></th>\n",
       "      <th>Flight Number</th>\n",
       "      <th>Departure Delay (minutes)</th>\n",
       "      <th>Arrival Delay (minutes)</th>\n",
       "    </tr>\n",
       "  </thead>\n",
       "  <tbody>\n",
       "    <tr>\n",
       "      <th>2</th>\n",
       "      <td>789</td>\n",
       "      <td>20</td>\n",
       "      <td>15</td>\n",
       "    </tr>\n",
       "  </tbody>\n",
       "</table>\n",
       "</div>"
      ],
      "text/plain": [
       "   Flight Number  Departure Delay (minutes)  Arrival Delay (minutes)\n",
       "2            789                         20                       15"
      ]
     },
     "execution_count": 15,
     "metadata": {},
     "output_type": "execute_result"
    }
   ],
   "source": [
    "flights[flights['Departure Delay (minutes)'] > 15]"
   ]
  },
  {
   "cell_type": "markdown",
   "id": "50581b71",
   "metadata": {},
   "source": [
    "- flight number 789 had the delay of more than 15 min"
   ]
  },
  {
   "cell_type": "code",
   "execution_count": null,
   "id": "9a45f510",
   "metadata": {},
   "outputs": [],
   "source": []
  }
 ],
 "metadata": {
  "kernelspec": {
   "display_name": "Python 3 (ipykernel)",
   "language": "python",
   "name": "python3"
  },
  "language_info": {
   "codemirror_mode": {
    "name": "ipython",
    "version": 3
   },
   "file_extension": ".py",
   "mimetype": "text/x-python",
   "name": "python",
   "nbconvert_exporter": "python",
   "pygments_lexer": "ipython3",
   "version": "3.11.5"
  }
 },
 "nbformat": 4,
 "nbformat_minor": 5
}
